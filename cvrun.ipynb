{
 "cells": [
  {
   "cell_type": "markdown",
   "metadata": {},
   "source": [
    "# TW Hya Imaging Tutorial"
   ]
  },
  {
   "cell_type": "markdown",
   "metadata": {},
   "source": [
    "This is a tutorial of synthesis imaging based on sparse modeling technique. Data for this tutorial is taken from [First Look at Imaging CASA Guide](https://casaguides.nrao.edu/index.php/First_Look_at_Imaging) and can be downloaded from the link below:\n",
    "\n",
    "https://bulk.cv.nrao.edu/almadata/public/working/sis14_twhya_calibrated_flagged.ms.tar\n",
    "\n",
    "After you download the data, you should untar it to get MS. You may run the following cell to obtain the dataset."
   ]
  },
  {
   "cell_type": "code",
   "execution_count": null,
   "metadata": {},
   "outputs": [],
   "source": [
    "%%bash\n",
    "# download if necessary\n",
    "[ -e sis14_twhya_calibrated_flagged.ms.tar ] || wget https://bulk.cv.nrao.edu/almadata/public/working/sis14_twhya_calibrated_flagged.ms.tar\n",
    "\n",
    "# extract MS if it doesn't exist\n",
    "[ -e sis14_twhya_calibrated_flagged.ms ] || tar xvf sis14_twhya_calibrated_flagged.ms.tar"
   ]
  },
  {
   "cell_type": "markdown",
   "metadata": {},
   "source": [
    "Before you start this tutorial, you should install PRIISM and packages that PRIISM depends on (casatools, casatasks, etc.). Please see README.md on how to install PRIISM."
   ]
  },
  {
   "cell_type": "markdown",
   "metadata": {},
   "source": [
    "## Preparation"
   ]
  },
  {
   "cell_type": "markdown",
   "metadata": {},
   "source": [
    "First, we make matplotlib figures to be displayed in the notebook."
   ]
  },
  {
   "cell_type": "code",
   "execution_count": null,
   "metadata": {},
   "outputs": [],
   "source": [
    "%matplotlib inline"
   ]
  },
  {
   "cell_type": "markdown",
   "metadata": {},
   "source": [
    "Next, we average visibility channels according to the procedure described in [the CASA Guide](https://casaguides.nrao.edu/index.php/First_Look_at_Imaging). This requires `casatasks` that should have been installed as a dependency of PRIISM. We use `twhya_smoothed.ms` in the subsequent steps."
   ]
  },
  {
   "cell_type": "code",
   "execution_count": null,
   "metadata": {},
   "outputs": [],
   "source": [
    "import os\n",
    "from casatasks import split, listobs\n",
    "\n",
    "# overwrite output data if it exists\n",
    "os.system('rm -rf twhya_smoothed.ms')\n",
    "os.system('rm -f twhya_smoothed.listobs.txt')\n",
    "\n",
    "split(vis='sis14_twhya_calibrated_flagged.ms', field='5', width='8', outputvis='twhya_smoothed.ms', datacolumn='data')\n",
    "\n",
    "data_summary = listobs('twhya_smoothed.ms', verbose=True, listfile='twhya_smoothed.listobs.txt')"
   ]
  },
  {
   "cell_type": "markdown",
   "metadata": {},
   "source": [
    "## Initialization"
   ]
  },
  {
   "cell_type": "markdown",
   "metadata": {},
   "source": [
    "In PRIISM, we have two modules `priism` and `priism.alma`. The former is a set of core functionalities and primitive interface while the later is high-level interface specific to ALMA data. Here, we will use `priism.alma` because we are working with ALMA data. As a first step, we should create worker instance with solver option. The `mfista_nufft` solver is an implementation of MFISTA algorithm based on NUFFT. "
   ]
  },
  {
   "cell_type": "code",
   "execution_count": null,
   "metadata": {},
   "outputs": [],
   "source": [
    "import priism.alma\n",
    "print(f'PRIISM version {priism.__version__}')\n",
    "worker = priism.alma.AlmaSparseModelingImager(solver='mfista_nufft')"
   ]
  },
  {
   "cell_type": "markdown",
   "metadata": {},
   "source": [
    "## Data Selection"
   ]
  },
  {
   "cell_type": "markdown",
   "metadata": {},
   "source": [
    "Next step is to select visibility data to be processed. The `worker` has `selectdata` method for this purpose. Its interface might be familiar with CASA users. You should set MS to `vis`. Also, you should specify name of data column to use with `datacolumn`. `selectdata` accepts major data selection parameters in CASA. Here, we select data with `spw` and `intent`. "
   ]
  },
  {
   "cell_type": "code",
   "execution_count": null,
   "metadata": {},
   "outputs": [],
   "source": [
    "worker.selectdata(vis='twhya_smoothed.ms',\n",
    "                  spw='0:24',\n",
    "                  intent='OBSERVE_TARGET#ON_SOURCE',\n",
    "                  datacolumn='data')"
   ]
  },
  {
   "cell_type": "markdown",
   "metadata": {},
   "source": [
    "## Image Configuration"
   ]
  },
  {
   "cell_type": "markdown",
   "metadata": {},
   "source": [
    "Then, image to be created should be configured with `defineimage` function. Again, parameters for it might be familiar with CASA users. Note that `phasecenter` currently accepts field id only. Also, `nchan` should be 1. These limitation may be relaxed in the future. "
   ]
  },
  {
   "cell_type": "code",
   "execution_count": null,
   "metadata": {},
   "outputs": [],
   "source": [
    "worker.defineimage(imsize=[256, 256],\n",
    "                   cell=['0.08arcsec'],\n",
    "                   phasecenter='0',  # TW Hya\n",
    "                   nchan=1,\n",
    "                   start=0,\n",
    "                   width=1)"
   ]
  },
  {
   "cell_type": "markdown",
   "metadata": {},
   "source": [
    "## Read Visibility Data"
   ]
  },
  {
   "cell_type": "markdown",
   "metadata": {},
   "source": [
    "Configuration has been done. And actual processing starts from here. First processing step is to read MS and load visibility data onto the memory. \n",
    "\n",
    "This step may take up to a minute."
   ]
  },
  {
   "cell_type": "code",
   "execution_count": null,
   "metadata": {},
   "outputs": [],
   "source": [
    "%%timeit -n 1 -r 1\n",
    "\n",
    "worker.readvis()"
   ]
  },
  {
   "cell_type": "markdown",
   "metadata": {},
   "source": [
    "## Direct Imaging"
   ]
  },
  {
   "cell_type": "markdown",
   "metadata": {},
   "source": [
    "Now you can create an image from the visibility data. There are two parameters for imaging: `L1` and `Ltsv`. They are scaling factor for regularization terms. Once you give these parameters, you will obtain one image. For imaging, you should run `solve` to solve the problem and then run `exportimage` to export the solution as FITS image. \n",
    "\n",
    "This step may take up to a minute."
   ]
  },
  {
   "cell_type": "code",
   "execution_count": null,
   "metadata": {},
   "outputs": [],
   "source": [
    "%%timeit -n 1 -r 1\n",
    "%%capture --no-display capture_solve\n",
    "\n",
    "worker.solve(l1=1e0, ltsv=1e8, maxiter=1000, storeinitialimage=False)\n",
    "worker.exportimage(imagename='myimage.fits', overwrite=True)"
   ]
  },
  {
   "cell_type": "markdown",
   "metadata": {},
   "source": [
    "## Cross-Validation: Finding The Most Reliable Image "
   ]
  },
  {
   "cell_type": "markdown",
   "metadata": {},
   "source": [
    "In the previous step, `L1` and `Ltsv` are treated as fixed parameters. In practice, however, these parameters must be optimized to obtain the most reliable image for given visibility data. PRIISM implements a cross validation for optimization. In general, cross validation is time-consuming process because it requires to solve the problem many times and we need to search broad range of `L1-Ltsv` parameter space. This step is a shorthand for  cross validation. We will search only 3x3 parameter space (`L1_list` and `Ltsv_list`) and will perform 4-fold cross validation (default is 10-fold).\n",
    "\n",
    "Although this is shorthand, it may take up to tens of minutes depending on the machine spec."
   ]
  },
  {
   "cell_type": "code",
   "execution_count": null,
   "metadata": {
    "scrolled": false
   },
   "outputs": [],
   "source": [
    "%%timeit -n 1 -r 1\n",
    "%%capture --no-display capture_cv\n",
    "\n",
    "L1_list = [1e2, 1e3, 1e4]\n",
    "Ltsv_list = [1e6, 1e7, 1e8]\n",
    "num_fold = 4\n",
    "\n",
    "worker.crossvalidation(L1_list, Ltsv_list, num_fold=num_fold,\n",
    "                       imageprefix='mycvresult', imagepolicy='full',\n",
    "                       summarize=True, figfile='cvresult.png',\n",
    "                       datafile='cvresult.dat', maxiter=1000, resultasinitialimage=False, scalehyperparam=False)"
   ]
  }
 ],
 "metadata": {
  "kernelspec": {
   "display_name": "Python 3",
   "language": "python",
   "name": "python3"
  },
  "language_info": {
   "codemirror_mode": {
    "name": "ipython",
    "version": 3
   },
   "file_extension": ".py",
   "mimetype": "text/x-python",
   "name": "python",
   "nbconvert_exporter": "python",
   "pygments_lexer": "ipython3",
   "version": "3.6.9"
  },
  "vscode": {
   "interpreter": {
    "hash": "8c07abbee98dc71e36094e4471bc793e68b9a71b4a527ffa5b3f2dd52f664568"
   }
  }
 },
 "nbformat": 4,
 "nbformat_minor": 4
}
